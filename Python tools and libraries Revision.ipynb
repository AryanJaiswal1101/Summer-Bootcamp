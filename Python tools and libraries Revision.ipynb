{
 "cells": [
  {
   "cell_type": "markdown",
   "metadata": {},
   "source": [
    "- Questions on the following topics covered so far:-\n",
    "\n",
    "1. NumPy\n",
    "2. Pandas\n",
    "3. Matplotib\n",
    "4. Seaborn "
   ]
  },
  {
   "cell_type": "markdown",
   "metadata": {},
   "source": [
    "Q1. Seaborn and Pandas - Create a Scatter Plot.\n",
    "\n",
    "Load the iris dataset using Seaborn and create a scatter plot to visualize the relationship between sepal_length and sepal_width. Color the points based on the species."
   ]
  },
  {
   "cell_type": "code",
   "execution_count": null,
   "metadata": {},
   "outputs": [],
   "source": [
    "import seaborn as sns\n",
    "import pandas as pd\n",
    "import matplotlib.pyplot as plt\n",
    "\n",
    "# Load iris dataset\n",
    "iris = sns.load_dataset('iris')\n",
    "\n",
    "# Create scatter plot\n",
    "plt.figure(figsize=(10, 6))\n",
    "sns.scatterplot(data=iris, x='sepal_length', y='sepal_width', hue='species')\n",
    "plt.title('Scatter Plot of Sepal Length vs Sepal Width')\n",
    "plt.show()"
   ]
  },
  {
   "cell_type": "markdown",
   "metadata": {},
   "source": [
    "Q2: Matplotlib and NumPy - Plot a Sine Wave.\n",
    "\n",
    "Generate an array of values from 0 to 2π using NumPy and plot a sine wave using Matplotlib."
   ]
  },
  {
   "cell_type": "code",
   "execution_count": null,
   "metadata": {},
   "outputs": [],
   "source": [
    "import numpy as np\n",
    "import matplotlib.pyplot as plt\n",
    "\n",
    "# Create x-axis values\n",
    "x = np.arange(0, 5, 0.1)  # Generates an array from 0 to 4.9 with steps of 0.1\n",
    "\n",
    "# Create y-axis values (sine wave)\n",
    "y = np.sin(x)\n",
    "\n",
    "# Plot the sine wave\n",
    "plt.plot(x, y)\n",
    "\n",
    "# Add labels and title\n",
    "plt.xlabel(\"X-axis\")\n",
    "plt.ylabel(\"Sine(X)\")\n",
    "plt.title(\"Sine Wave Plot\")\n",
    "\n",
    "# Display the plot\n",
    "plt.show()\n"
   ]
  },
  {
   "cell_type": "markdown",
   "metadata": {},
   "source": [
    "Q3. Pandas - Handling Missing Data.\n",
    "\n",
    "Load a dataset with missing values and demonstrate how to handle missing data by filling the null values with the mean of the column."
   ]
  },
  {
   "cell_type": "code",
   "execution_count": null,
   "metadata": {},
   "outputs": [],
   "source": [
    "import pandas as pd\n",
    "import numpy as np\n",
    "\n",
    "# Sample data with missing values\n",
    "data = {'Age': [25, 30, np.nan, 35], 'Name': ['Alice', 'Bob', None, 'David']}\n",
    "df = pd.DataFrame(data)\n",
    "\n",
    "# Check for missing values (count)\n",
    "missing_counts = df.isnull().sum()\n",
    "print(missing_counts)\n",
    "\n",
    "# Fill missing values with mean (Age) and most frequent value (Name)\n",
    "df['Age'] = df['Age'].fillna(df['Age'].mean())\n",
    "df['Name'] = df.fillna(df['Name'].mode()[0])  # Assuming a single most frequent value\n",
    "\n",
    "# Print modified DataFrame (showing missing values handled)\n",
    "print(df)\n"
   ]
  },
  {
   "cell_type": "markdown",
   "metadata": {},
   "source": [
    "Q4.Seaborn and Matplotlib - Create a Box Plot\n",
    "\n",
    "Load the tips dataset from Seaborn and create a box plot to show the distribution of total bills for each day of the week."
   ]
  },
  {
   "cell_type": "code",
   "execution_count": null,
   "metadata": {},
   "outputs": [],
   "source": [
    "import seaborn as sns\n",
    "import matplotlib.pyplot as plt\n",
    "import numpy as np  # Optional, for data generation\n",
    "\n",
    "# Generate some sample data (optional, replace with your data)\n",
    "x = np.random.randn(100)  # Random values for x-axis\n",
    "y = 3 * x + np.random.randn(100)  # Linear relationship with noise\n",
    "\n",
    "# Create the scatter plot using Seaborn\n",
    "sns.scatterplot(x, y)\n",
    "\n",
    "# Customize the plot using Matplotlib (optional)\n",
    "plt.title(\"Scatter Plot with Seaborn and Matplotlib\")\n",
    "plt.xlabel(\"X-axis\")\n",
    "plt.ylabel(\"Y-axis\")\n",
    "plt.grid(True)  # Add grid lines for better readability\n",
    "\n",
    "# Display the plot\n",
    "plt.show()\n"
   ]
  },
  {
   "cell_type": "markdown",
   "metadata": {},
   "source": [
    "Q5. Pandas and NumPy - Data Manipulation\n",
    "\n",
    "Create a DataFrame with random values and add a new column that is the square of an existing column."
   ]
  },
  {
   "cell_type": "code",
   "execution_count": null,
   "metadata": {},
   "outputs": [],
   "source": [
    "import pandas as pd\n",
    "import numpy as np\n",
    "\n",
    "# Create DataFrame with random values\n",
    "df = pd.DataFrame({\n",
    "    'A': np.random.rand(10),\n",
    "    'B': np.random.rand(10)\n",
    "})\n",
    "\n",
    "# Add new column that is the square of column A\n",
    "df['A_squared'] = df['A'] ** 2\n",
    "print(df)"
   ]
  },
  {
   "cell_type": "markdown",
   "metadata": {},
   "source": [
    "Q6. Seaborn and Matplotlib - Create a Histogram\n",
    "\n",
    "Load the diamonds dataset from Seaborn and create a histogram to visualize the distribution of diamond prices."
   ]
  },
  {
   "cell_type": "code",
   "execution_count": null,
   "metadata": {},
   "outputs": [],
   "source": [
    "import seaborn as sns\n",
    "import matplotlib.pyplot as plt\n",
    "\n",
    "# Sample test score data (replace with your data if needed)\n",
    "test_scores = [15, 25, 30, 38, 42, 55, 68, 70, 82, 95, 78, 60, 52, 40, 35, 28, 90, 85, 72, 63]\n",
    "\n",
    "# Create the histogram using Seaborn\n",
    "sns.histplot(test_scores)\n",
    "\n",
    "# Optional customizations with Matplotlib\n",
    "plt.xlabel(\"Test Scores (0-100)\")\n",
    "plt.ylabel(\"Frequency\")\n",
    "plt.title(\"Distribution of Test Scores\")\n",
    "plt.grid(True)  # Add grid lines for better readability\n",
    "\n",
    "# Display the plot\n",
    "plt.show()\n"
   ]
  },
  {
   "cell_type": "markdown",
   "metadata": {},
   "source": [
    "Q7. Pandas - Grouping and Aggregation\n",
    "\n",
    "Load the titanic dataset from Seaborn and calculate the average age of passengers for each class."
   ]
  },
  {
   "cell_type": "code",
   "execution_count": null,
   "metadata": {},
   "outputs": [],
   "source": [
    "import seaborn as sns\n",
    "import pandas as pd\n",
    "\n",
    "# Load titanic dataset\n",
    "titanic = sns.load_dataset('titanic')\n",
    "\n",
    "# Calculate average age of passengers for each class\n",
    "average_age = titanic.groupby('class')['age'].mean()\n",
    "print(average_age)"
   ]
  },
  {
   "cell_type": "markdown",
   "metadata": {},
   "source": [
    "Q8.  Matplotlib and NumPy - Multiple Subplots\n",
    "\n",
    "Create a 2x2 grid of subplots using Matplotlib, each showing a different mathematical function (sine, cosine, tangent, and exponential)."
   ]
  },
  {
   "cell_type": "code",
   "execution_count": null,
   "metadata": {},
   "outputs": [],
   "source": [
    "import matplotlib.pyplot as plt\n",
    "import numpy as np\n",
    "\n",
    "# Sample data (replace with your own data)\n",
    "x = np.linspace(0.0, 5.0, 100)\n",
    "y1 = np.sin(2 * np.pi * x) * np.exp(-x)\n",
    "y2 = np.cos(2 * np.pi * x)\n",
    "\n",
    "# Create a figure with 2 rows and 1 column of subplots\n",
    "fig, axs = plt.subplots(2, 1)  # 2 rows, 1 column\n",
    "\n",
    "# Plot data on each subplot\n",
    "axs[0].plot(x, y1, label='Damped oscillation')  # Subplot at index 0 (top row)\n",
    "axs[0].set_ylabel('Amplitude')  # Set label for y-axis of top subplot\n",
    "axs[0].legend()  # Add legend for top subplot (optional)\n",
    "\n",
    "axs[1].plot(x, y2, label='Undamped')  # Subplot at index 1 (bottom row)\n",
    "axs[1].set_xlabel('Time (s)')  # Set label for x-axis of bottom subplot\n",
    "axs[1].set_ylabel('Amplitude')  # Set label for y-axis of bottom subplot\n",
    "axs[1].legend()  # Add legend for bottom subplot (optional)\n",
    "\n",
    "# Optional: Set a common title for all subplots\n",
    "plt.suptitle('Comparison of Oscillations')\n",
    "\n",
    "# Display the plot\n",
    "plt.show()\n"
   ]
  }
 ],
 "metadata": {
  "language_info": {
   "name": "python"
  }
 },
 "nbformat": 4,
 "nbformat_minor": 2
}
